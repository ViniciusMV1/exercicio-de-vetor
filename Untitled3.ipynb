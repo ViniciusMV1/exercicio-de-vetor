{
  "nbformat": 4,
  "nbformat_minor": 0,
  "metadata": {
    "colab": {
      "provenance": [],
      "authorship_tag": "ABX9TyMPKkT297rTgvSiApMiRZsy",
      "include_colab_link": true
    },
    "kernelspec": {
      "name": "python3",
      "display_name": "Python 3"
    },
    "language_info": {
      "name": "python"
    }
  },
  "cells": [
    {
      "cell_type": "markdown",
      "metadata": {
        "id": "view-in-github",
        "colab_type": "text"
      },
      "source": [
        "<a href=\"https://colab.research.google.com/github/ViniciusMV1/exercicio-de-vetor/blob/main/Untitled3.ipynb\" target=\"_parent\"><img src=\"https://colab.research.google.com/assets/colab-badge.svg\" alt=\"Open In Colab\"/></a>"
      ]
    },
    {
      "cell_type": "code",
      "execution_count": 12,
      "metadata": {
        "colab": {
          "base_uri": "https://localhost:8080/"
        },
        "id": "H3Jo6k_5N_ie",
        "outputId": "20fe24ee-c99a-4420-f1b2-dcd73134fd3a"
      },
      "outputs": [
        {
          "output_type": "stream",
          "name": "stdout",
          "text": [
            "Média final do estudante: 8.5\n"
          ]
        }
      ],
      "source": [
        "seme1 = [10,6,3,9]\n",
        "seme2 = [10,5,2,8]\n",
        "\n",
        "soma = 0\n",
        "for total1 in seme1:\n",
        "  soma = total1\n",
        "\n",
        "soma = 0 \n",
        "for total2 in seme2:\n",
        "  soma = total2\n",
        "\n",
        "media = (total1 + total2)/2\n",
        "\n",
        "print(\"Média final do estudante:\", media);"
      ]
    },
    {
      "cell_type": "code",
      "source": [
        "imc = [1.81, 100,40]\n",
        "print(imc)"
      ],
      "metadata": {
        "colab": {
          "base_uri": "https://localhost:8080/"
        },
        "id": "kTjOv955Pmma",
        "outputId": "515e0a90-2d72-47d5-fd9e-7d8cc0d79121"
      },
      "execution_count": 10,
      "outputs": [
        {
          "output_type": "stream",
          "name": "stdout",
          "text": [
            "[1.81, 100, 40]\n"
          ]
        }
      ]
    },
    {
      "cell_type": "code",
      "source": [
        "notas = [3,4,5,20]\n",
        "print(notas)"
      ],
      "metadata": {
        "colab": {
          "base_uri": "https://localhost:8080/"
        },
        "id": "rzbewJSdPuuR",
        "outputId": "8bae41ee-37a4-4bae-96b7-fd6297abd19c"
      },
      "execution_count": 11,
      "outputs": [
        {
          "output_type": "stream",
          "name": "stdout",
          "text": [
            "[3, 4, 5, 20]\n"
          ]
        }
      ]
    }
  ]
}